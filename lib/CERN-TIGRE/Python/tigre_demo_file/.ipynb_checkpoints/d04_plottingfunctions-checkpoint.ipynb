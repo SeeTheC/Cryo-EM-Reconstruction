{
 "cells": [
  {
   "cell_type": "markdown",
   "metadata": {},
   "source": [
    "# Demo 4: How to use plotting functions"
   ]
  },
  {
   "cell_type": "raw",
   "metadata": {},
   "source": [
    "This demo will demonstrate the options for plotting projections and images on TIGRE. The functions have been in previous demos, but in here an exaustive explanation and usage of them is given.\n",
    "NOTE: if you havent already downloaded the tigre_demo_file and navigated to the correct directory, do so before continuing with this demo. \n",
    "--------------------------------------------------------------------------\n",
    "This file is part of the TIGRE Toolbox\n",
    "\n",
    "Copyright (c) 2015, University of Bath and\n",
    "                    CERN-European Organization for Nuclear Research\n",
    "                    All rights reserved.\n",
    "\n",
    "License:            Open Source under BSD.\n",
    "                    See the full license at\n",
    "                    https://github.com/CERN/TIGRE/license.txt\n",
    "\n",
    "Contact:            tigre.toolbox@gmail.com\n",
    "Codes:              https://github.com/CERN/TIGRE/\n",
    "--------------------------------------------------------------------------\n",
    "Coded by:          MATLAB (original code): Ander Biguri\n",
    "                   PYTHON : Reuben Lindroos,Sam Loescher"
   ]
  },
  {
   "cell_type": "markdown",
   "metadata": {},
   "source": [
    "## Define Geometry"
   ]
  },
  {
   "cell_type": "code",
   "execution_count": 1,
   "metadata": {
    "collapsed": true
   },
   "outputs": [],
   "source": [
    "from tigre.geometry import TIGREParameters\n",
    "geo=TIGREParameters(high_quality=False)"
   ]
  },
  {
   "cell_type": "markdown",
   "metadata": {},
   "source": [
    "## Load data and generate projections"
   ]
  },
  {
   "cell_type": "code",
   "execution_count": 2,
   "metadata": {
    "collapsed": false
   },
   "outputs": [],
   "source": [
    "import numpy as np\n",
    "from _Ax import Ax\n",
    "from Test_data import data_loader\n",
    "# define angles\n",
    "angles=np.linspace(0,2*np.pi,dtype=np.float32)\n",
    "# load head phantom data\n",
    "head=data_loader.load_head_phantom(number_of_voxels=geo.nVoxel)\n",
    "# generate projections\n",
    "projections=Ax(head,geo,angles,'interpolated')"
   ]
  },
  {
   "cell_type": "markdown",
   "metadata": {},
   "source": [
    "## Reconstruct image using OS-SART and FDK "
   ]
  },
  {
   "cell_type": "code",
   "execution_count": 3,
   "metadata": {
    "collapsed": false
   },
   "outputs": [
    {
     "name": "stdout",
     "output_type": "stream",
     "text": [
      "OS_SART algorithm in progress.\n",
      "Esitmated time until completetion (s): 2.46085\n"
     ]
    },
    {
     "name": "stderr",
     "output_type": "stream",
     "text": [
      "/home/aabhca20/Documents/TIGRE-python/Python/tigre_python_build/tigre/Utilities/filtering.py:56: UserWarning: no filter selected, using default ram_lak\n",
      "  warnings.warn('no filter selected, using default ram_lak')\n"
     ]
    }
   ],
   "source": [
    "from tigre.Algorithms.FDK import FDK \n",
    "from tigre.Algorithms.OS_SART import OS_SART\n",
    "from tigre.Utilities.plotImg import plotImg\n",
    "\n",
    "# OS_SART\n",
    "niter=50\n",
    "imgOSSART=OS_SART(projections,geo,angles,niter)\n",
    "\n",
    "# FDK \n",
    "imgfdk=FDK(projections,geo,angles)"
   ]
  },
  {
   "cell_type": "markdown",
   "metadata": {},
   "source": [
    "## Let's use plotproj"
   ]
  },
  {
   "cell_type": "code",
   "execution_count": 4,
   "metadata": {
    "collapsed": false
   },
   "outputs": [
    {
     "data": {
      "image/png": "[encoded data removed]",
      "text/plain": [
       "<matplotlib.figure.Figure at 0x7f00e6ea2b50>"
      ]
     },
     "metadata": {},
     "output_type": "display_data"
    }
   ],
   "source": [
    "# plotproj plots the projection measured on the detector on each angle. \n",
    "\n",
    "from tigre.Utilities.plotproj import plotproj \n",
    "plotproj(projections)\n",
    "\n",
    "# another useful function is ppslice, which returns the projection at a single angle.\n",
    "# Default is at projections[len(angles)/2]\n",
    "\n",
    "from tigre.Utilities.plotproj import ppslice\n",
    "ppslice(projections,slice=35)\n"
   ]
  },
  {
   "cell_type": "markdown",
   "metadata": {},
   "source": [
    "## what about plotImg?"
   ]
  },
  {
   "cell_type": "code",
   "execution_count": 6,
   "metadata": {
    "collapsed": false
   },
   "outputs": [
    {
     "name": "stdout",
     "output_type": "stream",
     "text": [
      "Help on class plotImg in module tigre.Utilities.plotImg:\n",
      "\n",
      "class plotImg\n",
      " |  plotImg(cube, dim) \n",
      " |      plots figure \n",
      " |  default: progressive in slices following\n",
      " |      axis (dim)\n",
      " |  Parameters \n",
      " |  ---------- \n",
      " |  cube : Any 3D numpy array \n",
      " |  \n",
      " |  dim : (\"X\",\"Y\",\"Z\",\"x\",\"y\",\"z\"), optional \n",
      " |         default is \"Z\"\n",
      " |         NOTE: string arguments!\n",
      " |  slice: int, optional\n",
      " |       returns page of matrix according to index\n",
      " |  Examples:\n",
      " |  ---------\n",
      " |  a=np.ones([3,3,3])\n",
      " |  plotImg(a)\n",
      " |  >>>returns plot along dim Z\n",
      " |  plotImg(a,dim=\"X\")\n",
      " |  >>>returns plot along dim X\n",
      " |  \n",
      " |  Methods defined here:\n",
      " |  \n",
      " |  __init__(self, cube, dim=None, slice=None)\n",
      " |  \n",
      " |  run(self)\n",
      " |  \n",
      " |  run_plot(self)\n",
      " |  \n",
      " |  slicer(self)\n",
      "\n"
     ]
    },
    {
     "data": {
      "image/png": "[encoded data removed]",
      "text/plain": [
       "<matplotlib.figure.Figure at 0x7f00e612f450>"
      ]
     },
     "metadata": {},
     "output_type": "display_data"
    },
    {
     "data": {
      "text/plain": [
       "<tigre.Utilities.plotImg.plotImg instance at 0x7f00e601ab48>"
      ]
     },
     "execution_count": 6,
     "metadata": {},
     "output_type": "execute_result"
    }
   ],
   "source": [
    "# plotImg plots the final reconstruction of the 3D array. Dim defaults to z, but can be\n",
    "# changed accordingly\n",
    "from tigre.Utilities.plotImg import plotImg\n",
    "# For more info on what parameters to use, type:\n",
    "help(plotImg)\n",
    "plotImg(np.hstack((imgOSSART,imgfdk)),slice=32)"
   ]
  },
  {
   "cell_type": "code",
   "execution_count": null,
   "metadata": {
    "collapsed": true
   },
   "outputs": [],
   "source": []
  }
 ],
 "metadata": {
  "kernelspec": {
   "display_name": "Python 2",
   "language": "python",
   "name": "python2"
  },
  "language_info": {
   "codemirror_mode": {
    "name": "ipython",
    "version": 2
   },
   "file_extension": ".py",
   "mimetype": "text/x-python",
   "name": "python",
   "nbconvert_exporter": "python",
   "pygments_lexer": "ipython2",
   "version": "2.7.13"
  }
 },
 "nbformat": 4,
 "nbformat_minor": 2
}
