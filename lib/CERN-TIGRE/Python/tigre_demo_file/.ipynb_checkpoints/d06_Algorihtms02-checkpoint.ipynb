{
 "cells": [
  {
   "cell_type": "markdown",
   "metadata": {},
   "source": [
    "# Demo 6: Algorithms02"
   ]
  },
  {
   "cell_type": "raw",
   "metadata": {},
   "source": [
    "This demo will demonstrate the options for plotting projections and images on TIGRE. The functions have been in previous demos, but in here an exaustive explanation and usage of them is given.\n",
    "NOTE: if you havent already downloaded the tigre_demo_file and navigated to the correct directory, do so before continuing with this demo. \n",
    "--------------------------------------------------------------------------\n",
    "This file is part of the TIGRE Toolbox\n",
    "\n",
    "Copyright (c) 2015, University of Bath and\n",
    "                    CERN-European Organization for Nuclear Research\n",
    "                    All rights reserved.\n",
    "\n",
    "License:            Open Source under BSD.\n",
    "                    See the full license at\n",
    "                    https://github.com/CERN/TIGRE/license.txt\n",
    "\n",
    "Contact:            tigre.toolbox@gmail.com\n",
    "Codes:              https://github.com/CERN/TIGRE/\n",
    "--------------------------------------------------------------------------\n",
    "Coded by:          MATLAB (original code): Ander Biguri\n",
    "                   PYTHON : Reuben Lindroos,Sam Loescher"
   ]
  },
  {
   "cell_type": "markdown",
   "metadata": {},
   "source": [
    "## Define Geometry"
   ]
  },
  {
   "cell_type": "code",
   "execution_count": 1,
   "metadata": {
    "collapsed": true
   },
   "outputs": [],
   "source": [
    "from tigre.geometry import TIGREParameters\n",
    "geo=TIGREParameters(high_quality=False)"
   ]
  },
  {
   "cell_type": "markdown",
   "metadata": {},
   "source": [
    "## Load data and generate projections"
   ]
  },
  {
   "cell_type": "code",
   "execution_count": 2,
   "metadata": {
    "collapsed": false
   },
   "outputs": [],
   "source": [
    "import numpy as np\n",
    "from _Ax import Ax\n",
    "from Test_data import data_loader\n",
    "# define angles\n",
    "angles=np.linspace(0,2*np.pi,dtype=np.float32)\n",
    "# load head phantom data\n",
    "head=data_loader.load_head_phantom(number_of_voxels=geo.nVoxel)\n",
    "# generate projections\n",
    "projections=Ax(head,geo,angles,'interpolated')"
   ]
  },
  {
   "cell_type": "markdown",
   "metadata": {
    "collapsed": true
   },
   "source": [
    "## SART family of algorithms"
   ]
  },
  {
   "cell_type": "raw",
   "metadata": {},
   "source": [
    "There are 3 algorithms in this damily included in TIGRE: SART,SIRT and\n",
    "OS-SART.\n",
    "\n",
    " The main difference between them is the update process. \n",
    "   SART: Updates the image projection by projection\n",
    "   SIRT: Updates the image using the whole set of projections at once\n",
    "   OS-SART: middle ground. Updates the image using a subset of the\n",
    "            projections\n",
    "\n",
    "  Of these algorithms, SART is generally the one reaching a better image\n",
    "  (less L2 error) for the same amount of iterations, and SIRT is the\n",
    "  worst (still relatively similar). However, SART needs increased\n",
    "  computational time per iteration, as it needs to update the image very    often,\n",
    "  while SIRT only updates the emage ones for the whole sets of projections.\n",
    "  OS-SART lies in the middle, reaching similar convergence (L2 error per\n",
    "  iteration) than SART but with less computational time than SART.\n",
    "\n",
    " Usage, with optional parameters.\n",
    " In the three algorithms, there are 4 mandatory input arguments:\n",
    " Projections, geometry, angles and number of iterations."
   ]
  },
  {
   "cell_type": "code",
   "execution_count": 3,
   "metadata": {
    "collapsed": false
   },
   "outputs": [
    {
     "name": "stdout",
     "output_type": "stream",
     "text": [
      "SIRT algorithm in progress.\n",
      "Esitmated time until completetion (s): 1.76545\n",
      "OS_SART algorithm in progress.\n",
      "Esitmated time until completetion (s): 14.4661\n",
      "SART algorithm in progress.\n",
      "Esitmated time until completetion (s): 41.368103\n"
     ]
    }
   ],
   "source": [
    "# Optional arguments for all of them\n",
    "#==========================================================================\n",
    "# 'lmbda': hyperparameter. The update will be multiplied by this number\n",
    "# every iteration, to make the steps bigger or smaller. Default: 1\n",
    "\n",
    "lmbda=1;\n",
    "\n",
    "\n",
    "#'lmbdared': reduction multiplier for the hyperparameter.\n",
    "# lmbda=lmbda*lmbdared every iterations, so the steps can be smaller\n",
    "# the further the update. Default=0.99\n",
    "lmbdared=0.999;\n",
    "\n",
    "# 'Init' : Initialization method. Possible options are\n",
    "#          'none' (default). There will be no initialization method, just\n",
    "#                 the algorithm\n",
    "  \n",
    "#          'FDK'  Initialize the image with the result of FDK algorithm\n",
    "\n",
    "#          'multigrid' Initialize using the multigrid method. The image\n",
    "#                      will be solved in a small scale, and the size of it\n",
    "#                      will increase until the desired size is reached.\n",
    "#\n",
    "#          'image'     Initialzies with a user given image. Not recoomended\n",
    "#                      unless you really know what you are doing.\n",
    "\n",
    "init=None;\n",
    "\n",
    "#'InitImg' : related to init. The image to use for initializing the\n",
    "# algorithm.\n",
    "\n",
    "# 'verbose': boolean to make the algorithm display (or not) running state. \n",
    "#            default true.\n",
    "\n",
    "verbose=True;\n",
    "# 'QualMeas'     Asks the algorithm for a set of quality measurement\n",
    "#                parameters. Input should contain a cell array of desired\n",
    "#                quality measurement names. Example: {'CC','RMSE','MSSIM'}\n",
    "#                These will be computed in each iteration. \n",
    "QualMeas='RMSE';\n",
    "# OS-SART\n",
    "# ========================================================================\n",
    "# Additionally OS-SART includes a couple of other parameters, related to\n",
    "# the subsets.\n",
    "#\n",
    "#   'blocksize':   Sets the projection block size used simultaneously. If\n",
    "#                  BlockSize = 1 OS-SART becomes SART and if  BlockSize = length(angles)\n",
    "#                  then OS-SART becomes SIRT. Default is 20.\n",
    "\n",
    "# EXAMPLES:\n",
    "# ----------------------------------------------------------------------\n",
    "from tigre.Algorithms.OS_SART import OS_SART\n",
    "from tigre.Algorithms.SIRT import SIRT\n",
    "from tigre.Algorithms.SART import SART\n",
    "from tigre.Utilities.plotImg import plotImg\n",
    "iterations=50\n",
    "sirt,sirt_l2err=SIRT(projections,geo,angles,iterations,computel2=True)\n",
    "ossart,ossarterr=OS_SART(projections,geo,angles,iterations,blocksize=20,computel2=True)\n",
    "sart,sarterr=SART(projections,geo,angles,iterations,computel2=True)\n"
   ]
  },
  {
   "cell_type": "code",
   "execution_count": 4,
   "metadata": {
    "collapsed": false
   },
   "outputs": [
    {
     "data": {
      "image/png": "[encoded data removed]",
      "text/plain": [
       "<matplotlib.figure.Figure at 0x7f1c73d56810>"
      ]
     },
     "metadata": {},
     "output_type": "display_data"
    },
    {
     "data": {
      "text/plain": [
       "<tigre.Utilities.plotImg.plotImg instance at 0x7f1c9d8efc20>"
      ]
     },
     "execution_count": 4,
     "metadata": {},
     "output_type": "execute_result"
    }
   ],
   "source": [
    "from tigre.Utilities.plotImg import plotImg\n",
    "plotImg(np.hstack((sart,ossart,sirt)),slice=32,dim='z')"
   ]
  },
  {
   "cell_type": "code",
   "execution_count": 5,
   "metadata": {
    "collapsed": false
   },
   "outputs": [
    {
     "data": {
      "image/png": "[encoded data removed]",
      "text/plain": [
       "<matplotlib.figure.Figure at 0x7f1c68c21450>"
      ]
     },
     "metadata": {},
     "output_type": "display_data"
    }
   ],
   "source": [
    "from matplotlib import pyplot as plt\n",
    "xx=np.arange(iterations)\n",
    "fig, ax = plt.subplots()\n",
    "ax.plot(xx, sirt_l2err, 'k--', label='sirt l2 err')\n",
    "ax.plot(xx, ossarterr, 'k:', label='ossart l2 err')\n",
    "ax.plot(xx, sarterr, 'k', label='sart l2 err')\n",
    "plt.xlabel('iterations')\n",
    "legend = ax.legend(loc='upper center')\n",
    "plt.show()"
   ]
  },
  {
   "cell_type": "code",
   "execution_count": null,
   "metadata": {
    "collapsed": true
   },
   "outputs": [],
   "source": []
  }
 ],
 "metadata": {
  "kernelspec": {
   "display_name": "Python 2",
   "language": "python",
   "name": "python2"
  },
  "language_info": {
   "codemirror_mode": {
    "name": "ipython",
    "version": 2
   },
   "file_extension": ".py",
   "mimetype": "text/x-python",
   "name": "python",
   "nbconvert_exporter": "python",
   "pygments_lexer": "ipython2",
   "version": "2.7.13"
  }
 },
 "nbformat": 4,
 "nbformat_minor": 2
}
